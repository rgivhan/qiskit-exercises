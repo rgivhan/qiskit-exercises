{
  "nbformat": 4,
  "nbformat_minor": 0,
  "metadata": {
    "colab": {
      "name": "Deutsch-Jozsa.ipynb",
      "provenance": [],
      "collapsed_sections": []
    },
    "kernelspec": {
      "name": "python3",
      "display_name": "Python 3"
    },
    "language_info": {
      "name": "python"
    }
  },
  "cells": [
    {
      "cell_type": "code",
      "source": [
        "%%capture\n",
        "!pip install qiskit\n",
        "!pip install pylatexenc"
      ],
      "metadata": {
        "id": "Rax68LyWPwiN"
      },
      "execution_count": 1,
      "outputs": []
    },
    {
      "cell_type": "code",
      "execution_count": 3,
      "metadata": {
        "id": "jYHnHGXg-0NG"
      },
      "outputs": [],
      "source": [
        "# initialization\n",
        "import numpy as np\n",
        "\n",
        "# importing Qiskit\n",
        "from qiskit import IBMQ, Aer\n",
        "from qiskit.providers.ibmq import least_busy\n",
        "from qiskit import QuantumCircuit, assemble, transpile\n",
        "\n",
        "# import basic plot tools\n",
        "from qiskit.visualization import plot_histogram"
      ]
    },
    {
      "cell_type": "code",
      "source": [
        "def dj_oracle(case, n):\n",
        "  oracle_qc = QuantumCircuit(n + 1)\n",
        "  \n",
        "  if case == 'constant':\n",
        "    if np.random.randint(2) == '1':\n",
        "      oracle_qc.x(n)\n",
        "\n",
        "  if case == 'balanced':\n",
        "    b = np.random.randint(1, 2**n)\n",
        "    b_str = format(b, '0'+str(n)+'b')\n",
        "\n",
        "    for qubit in range(n):\n",
        "      #if a qubit is selected by the binary string, add an X gate\n",
        "      if(b_str[qubit] == '1'): oracle_qc.x(qubit)\n",
        "      #add CX gates\n",
        "      oracle_qc.cx(qubit, n)\n",
        "      #add end X gates\n",
        "      if(b_str[qubit] == '1'): oracle_qc.x(qubit)\n",
        "  \n",
        "  #make our circuit a gate\n",
        "  oracle = oracle_qc.to_gate()\n",
        "  oracle.name = \"Oracle\" #Will show when displaying circuit\n",
        "  return oracle\n",
        "\n",
        "def dj_algorithm(oracle, n):\n",
        "  dj_qc = QuantumCircuit(n + 1, n)\n",
        "  #add hadamards to input qubits to set up in |+> state\n",
        "  for qubit in range(n): dj_qc.h(qubit)\n",
        "  #set up output qubit in |-> state\n",
        "  dj_qc.x(n); dj_qc.h(n); \n",
        "  #append oracle to the circuit\n",
        "  dj_qc.append(oracle, range(n+1))\n",
        "  #add end hadamards, add measurements\n",
        "  for qubit in range(n):\n",
        "    channel = qubit \n",
        "    dj_qc.h(qubit)\n",
        "    dj_qc.measure(qubit, channel)\n",
        "  \n",
        "  return dj_qc "
      ],
      "metadata": {
        "id": "ZiHM190tjkgG"
      },
      "execution_count": 4,
      "outputs": []
    },
    {
      "cell_type": "code",
      "source": [
        "n = 4\n",
        "oracle = dj_oracle('constant', n)\n",
        "dj_circuit = dj_algorithm(oracle, n)\n",
        "dj_circuit.draw(output='mpl')\n",
        "\n",
        "#plot results"
      ],
      "metadata": {
        "colab": {
          "base_uri": "https://localhost:8080/",
          "height": 322
        },
        "id": "b9Dqtb-gs9FC",
        "outputId": "1d67bfcc-a0cd-45ca-e557-b9d0e13386c2"
      },
      "execution_count": 5,
      "outputs": [
        {
          "output_type": "execute_result",
          "data": {
            "text/plain": [
              "<Figure size 628.397x385.28 with 1 Axes>"
            ],
            "image/png": "[encoded data removed]"
          },
          "metadata": {},
          "execution_count": 5
        }
      ]
    },
    {
      "cell_type": "code",
      "source": [
        "aer_sim = Aer.get_backend('aer_simulator')\n",
        "transpiled_dj_circuit = transpile(dj_circuit, aer_sim)\n",
        "qobj = assemble(transpiled_dj_circuit)\n",
        "results = aer_sim.run(qobj).result()\n",
        "answer = results.get_counts()\n",
        "plot_histogram(answer)"
      ],
      "metadata": {
        "colab": {
          "base_uri": "https://localhost:8080/",
          "height": 347
        },
        "id": "PsQaEZjp628l",
        "outputId": "e97838c5-5f1f-405e-a896-1d067b99c13e"
      },
      "execution_count": 6,
      "outputs": [
        {
          "output_type": "execute_result",
          "data": {
            "text/plain": [
              "<Figure size 504x360 with 1 Axes>"
            ],
            "image/png": "[encoded data removed]"
          },
          "metadata": {},
          "execution_count": 6
        }
      ]
    }
  ]
}