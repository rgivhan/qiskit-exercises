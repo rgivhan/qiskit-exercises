{
  "nbformat": 4,
  "nbformat_minor": 0,
  "metadata": {
    "colab": {
      "name": "Grover's Search.ipynb",
      "provenance": [],
      "collapsed_sections": []
    },
    "kernelspec": {
      "name": "python3",
      "display_name": "Python 3"
    },
    "language_info": {
      "name": "python"
    }
  },
  "cells": [
    {
      "cell_type": "code",
      "source": [
        "%%capture\n",
        "!pip install qiskit\n",
        "!pip install pylatexenc"
      ],
      "metadata": {
        "id": "kkQW8OMCHxnK"
      },
      "execution_count": 1,
      "outputs": []
    },
    {
      "cell_type": "code",
      "execution_count": null,
      "metadata": {
        "id": "UccL0Hj0FnWC"
      },
      "outputs": [],
      "source": [
        "#initialization\n",
        "import matplotlib.pyplot as plt\n",
        "import numpy as np\n",
        "\n",
        "# importing Qiskit\n",
        "from qiskit import IBMQ, Aer, assemble, transpile\n",
        "from qiskit import QuantumCircuit, ClassicalRegister, QuantumRegister\n",
        "from qiskit.providers.ibmq import least_busy\n",
        "\n",
        "# import basic plot tools\n",
        "from qiskit.visualization import plot_histogram"
      ]
    },
    {
      "cell_type": "markdown",
      "source": [
        "# **Two-Qubit Search**"
      ],
      "metadata": {
        "id": "6b4nAE-WCqUr"
      }
    },
    {
      "cell_type": "markdown",
      "source": [
        "Search for the state |11>"
      ],
      "metadata": {
        "id": "NAj8ZyFXC5Pr"
      }
    },
    {
      "cell_type": "code",
      "source": [
        "def initialize_state(qc, qubits):\n",
        "  for q in qubits: qc.h(q)\n",
        "  return qc\n",
        "\n",
        "#oracle specific to |11>\n",
        "def oracle_setup(qc):\n",
        "  qc.cz(0,1)\n",
        "  return qc\n",
        "\n",
        "#apply diffusion operator U_s\n",
        "def apply_diffuser(qc):\n",
        "  qc.h(range(2))\n",
        "  qc.z(range(2))\n",
        "  qc.cz(0,1)\n",
        "  qc.h(range(2))\n",
        "  return qc\n",
        "\n",
        "\n",
        "n = 2\n",
        "qc = QuantumCircuit(n)\n",
        "grover_qc = initialize_state(qc, range(n))\n",
        "grover_qc = oracle_setup(grover_qc)\n",
        "grover_qc = apply_diffuser(grover_qc)\n",
        "grover_qc.draw(output='mpl')"
      ],
      "metadata": {
        "colab": {
          "base_uri": "https://localhost:8080/",
          "height": 140
        },
        "id": "7df1aJO9C0V7",
        "outputId": "d3879d58-f0cb-4e5f-c954-6a6278b932f4"
      },
      "execution_count": null,
      "outputs": [
        {
          "output_type": "execute_result",
          "data": {
            "text/plain": [
              "<Figure size 447.652x144.48 with 1 Axes>"
            ],
            "image/png": "[encoded data removed]"
          },
          "metadata": {},
          "execution_count": 15
        }
      ]
    },
    {
      "cell_type": "code",
      "source": [
        "sim = Aer.get_backend('aer_simulator')\n",
        "# we need to make a copy of the circuit with the 'save_statevector'\n",
        "# instruction to run on the Aer simulator\n",
        "grover_circuit_sim = grover_qc.copy()\n",
        "grover_circuit_sim.save_statevector()\n",
        "qobj = assemble(grover_circuit_sim)\n",
        "result = sim.run(qobj).result()\n",
        "statevec = result.get_statevector()\n",
        "# from qiskit_textbook.tools import vector2latex\n",
        "# vector2latex(statevec, pretext=\"|\\\\psi\\\\rangle =\")"
      ],
      "metadata": {
        "id": "qssiy0J9WRic"
      },
      "execution_count": null,
      "outputs": []
    },
    {
      "cell_type": "code",
      "source": [
        "grover_qc.measure_all()\n",
        "\n",
        "aer_sim = Aer.get_backend('aer_simulator')\n",
        "qobj = assemble(grover_qc)\n",
        "result = aer_sim.run(qobj).result()\n",
        "counts = result.get_counts()\n",
        "plot_histogram(counts)"
      ],
      "metadata": {
        "colab": {
          "base_uri": "https://localhost:8080/",
          "height": 331
        },
        "id": "g1dgCvN2XYfr",
        "outputId": "9f435238-1c70-4d4a-fc9d-1778f594421f"
      },
      "execution_count": null,
      "outputs": [
        {
          "output_type": "execute_result",
          "data": {
            "text/plain": [
              "<Figure size 504x360 with 1 Axes>"
            ],
            "image/png": "[encoded data removed]"
          },
          "metadata": {},
          "execution_count": 13
        }
      ]
    },
    {
      "cell_type": "markdown",
      "source": [
        "# **3-qubit, 2-Marked-Item Search**\n",
        "\n",
        "We search for marked items |101> and |110>. "
      ],
      "metadata": {
        "id": "68ceRDv5ds10"
      }
    },
    {
      "cell_type": "code",
      "source": [
        "#set up specific phase oracle\n",
        "def three_qubit_oracle(n=3):\n",
        "  qc = QuantumCircuit(3)\n",
        "  qc.cz(0, 2)\n",
        "  qc.cz(1, 2)\n",
        "  oracle_ex3 = qc.to_gate()\n",
        "  oracle_ex3.name = \"U$_\\omega$\"\n",
        "  return oracle_ex3"
      ],
      "metadata": {
        "id": "8HRtxlxQihly"
      },
      "execution_count": null,
      "outputs": []
    },
    {
      "cell_type": "code",
      "source": [
        "#set up general diffuser circuit\n",
        "def diffuser(nqubits):\n",
        "  qc = QuantumCircuit(nqubits)\n",
        "  #add h and x gates\n",
        "  for qubit in range(nqubits):\n",
        "    qc.h(qubit); qc.x(qubit)\n",
        "  #Do multi-controlled-Z gate, using an MCT and using Z = HXH\n",
        "  qc.h(nqubits-1)\n",
        "  qc.mct(list(range(nqubits-1)), nqubits-1)\n",
        "  qc.h(nqubits-1)\n",
        "  #apply end h and x gates\n",
        "  for qubit in range(nqubits):\n",
        "    qc.h(qubit); qc.x(qubit)  \n",
        "  #We will return the diffusre as a gate\n",
        "  U_s = qc.to_gate()\n",
        "  U_s.name = \"U$_s$\"\n",
        "  return U_s"
      ],
      "metadata": {
        "id": "63d5lpORFvxc"
      },
      "execution_count": null,
      "outputs": []
    },
    {
      "cell_type": "code",
      "source": [
        "n=3\n",
        "qc = QuantumCircuit(n)\n",
        "qc = initialize_state(qc, [0,1,2])\n",
        "qc.append(three_qubit_oracle(qc), [0,1,2])\n",
        "qc.append(diffuser(n), [0,1,2])\n",
        "qc.measure_all()\n",
        "qc.draw('mpl')"
      ],
      "metadata": {
        "colab": {
          "base_uri": "https://localhost:8080/",
          "height": 231
        },
        "id": "Le6_IrlLMllq",
        "outputId": "b58c7747-9d24-4a4e-f535-fed84db2f7ae"
      },
      "execution_count": null,
      "outputs": [
        {
          "output_type": "execute_result",
          "data": {
            "text/plain": [
              "<Figure size 538.279x264.88 with 1 Axes>"
            ],
            "image/png": "[encoded data removed]"
          },
          "metadata": {},
          "execution_count": 23
        }
      ]
    }
  ]
}